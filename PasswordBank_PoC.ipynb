{
 "cells": [
  {
   "metadata": {
    "collapsed": true
   },
   "cell_type": "markdown",
   "source": "This is a proof of concept for a password bank system that securely stores and retrieves user passwords using encryption. We will cryptography to show how the mathematical principles behind encryption work in practice.",
   "id": "225e9c90683070c4"
  },
  {
   "metadata": {},
   "cell_type": "markdown",
   "source": "# Encrypt ceasar cipher",
   "id": "a238213b5acbfeac"
  },
  {
   "metadata": {
    "ExecuteTime": {
     "end_time": "2025-10-28T12:21:15.797208Z",
     "start_time": "2025-10-28T12:21:15.785325Z"
    }
   },
   "cell_type": "code",
   "source": [
    "def caesar_cipher(text, shift):\n",
    "    encrypted = \"\"\n",
    "    for char in text:\n",
    "        if char.isalpha():\n",
    "            base = 'A' if char.isupper() else 'a'\n",
    "            # forskyv bokstaven og hold deg innenfor alfabetet\n",
    "            encrypted += chr((ord(char) - ord(base) + shift) % 26 + ord(base))\n",
    "        else:\n",
    "            # tegn som ikke er bokstaver beholdes uendret\n",
    "            encrypted += char\n",
    "    return encrypted\n",
    "\n",
    "\n",
    "# Hardkodet inputstreng\n",
    "plaintext = \"Hei verden! Dette er en Caesar Cipher test.\"\n",
    "shift_value = 3  # antall steg å forskyve i alfabetet\n",
    "\n",
    "ciphertext = caesar_cipher(plaintext, shift_value)\n",
    "print(f\"Original tekst: {plaintext}\")\n",
    "print(f\"Kryptert tekst: {ciphertext}\")\n"
   ],
   "id": "4fa2ade6e79c5cb7",
   "outputs": [
    {
     "name": "stdout",
     "output_type": "stream",
     "text": [
      "Original tekst: Hei verden! Dette er en Caesar Cipher test.\n",
      "Kryptert tekst: Khl yhughq! Ghwwh hu hq Fdhvdu Flskhu whvw.\n"
     ]
    }
   ],
   "execution_count": 1
  },
  {
   "metadata": {},
   "cell_type": "markdown",
   "source": "# Decrypt ceasar cipher",
   "id": "fb75f5064f75d3cb"
  },
  {
   "metadata": {
    "ExecuteTime": {
     "end_time": "2025-10-28T12:24:22.077260Z",
     "start_time": "2025-10-28T12:24:22.058240Z"
    }
   },
   "cell_type": "code",
   "source": [
    "def caesar_decrypt(ciphertext, shift):\n",
    "    decrypted = \"\"\n",
    "    for char in ciphertext:\n",
    "        if char.isalpha():\n",
    "            base = 'A' if char.isupper() else 'a'\n",
    "            decrypted += chr((ord(char) - ord(base) - shift) % 26 + ord(base))\n",
    "        else:\n",
    "            decrypted += char\n",
    "    return decrypted\n",
    "\n",
    "\n",
    "# Hardkodet kryptert streng (samme som du fikk fra krypteringscellen)\n",
    "ciphertext = \"Kho yhughq! Ghwwh hu hq Fdhvdu Flskhu whvw.\"\n",
    "shift_value = 3  # må være samme som brukt ved kryptering\n",
    "\n",
    "decrypted_text = caesar_decrypt(ciphertext, shift_value)\n",
    "print(f\"Kryptert tekst: {ciphertext}\")\n",
    "print(f\"Dekryptert tekst: {decrypted_text}\")\n"
   ],
   "id": "399c46365f77eb98",
   "outputs": [
    {
     "name": "stdout",
     "output_type": "stream",
     "text": [
      "Kryptert tekst: Kho yhughq! Ghwwh hu hq Fdhvdu Flskhu whvw.\n",
      "Dekryptert tekst: Hel verden! Dette er en Caesar Cipher test.\n"
     ]
    }
   ],
   "execution_count": 2
  },
  {
   "metadata": {},
   "cell_type": "markdown",
   "source": "Dette er en test",
   "id": "7619964f8bc97b27"
  }
 ],
 "metadata": {
  "kernelspec": {
   "display_name": "Python 3",
   "language": "python",
   "name": "python3"
  },
  "language_info": {
   "codemirror_mode": {
    "name": "ipython",
    "version": 2
   },
   "file_extension": ".py",
   "mimetype": "text/x-python",
   "name": "python",
   "nbconvert_exporter": "python",
   "pygments_lexer": "ipython2",
   "version": "2.7.6"
  }
 },
 "nbformat": 4,
 "nbformat_minor": 5
}
