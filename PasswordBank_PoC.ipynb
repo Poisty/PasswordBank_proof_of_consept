{
 "cells": [
  {
   "metadata": {},
   "cell_type": "markdown",
   "source": "This is a proof of concept for a password bank system that securely stores and retrieves user passwords using encryption. We will cryptography to show how the mathematical principles behind encryption work in practice.",
   "id": "7a901bf13e5e61b1"
  }
 ],
 "metadata": {
  "kernelspec": {
   "display_name": "Python 3",
   "language": "python",
   "name": "python3"
  },
  "language_info": {
   "codemirror_mode": {
    "name": "ipython",
    "version": 2
   },
   "file_extension": ".py",
   "mimetype": "text/x-python",
   "name": "python",
   "nbconvert_exporter": "python",
   "pygments_lexer": "ipython2",
   "version": "2.7.6"
  }
 },
 "nbformat": 4,
 "nbformat_minor": 5
}
