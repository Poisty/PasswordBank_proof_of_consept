{
 "cells": [
  {
   "metadata": {
    "collapsed": true
   },
   "cell_type": "markdown",
   "source": "This is a proof of concept for a password bank system that securely stores and retrieves user passwords using encryption. We will cryptography to show how the mathematical principles behind encryption work in practice.",
   "id": "225e9c90683070c4"
  },
  {
   "metadata": {},
   "cell_type": "code",
   "outputs": [],
   "execution_count": null,
   "source": [
    "# Spør om navnet\n",
    "navn = input(\"Hva heter du? \")\n",
    "\n",
    "# Hils på personen\n",
    "print(f\"Hei {navn}! Hyggelig å møte deg!\")\n",
    "\n",
    "# Legg til en liten ekstra melding\n",
    "print(\"Ha en fin dag! 😊\")\n",
    "print(\"b\")"
   ],
   "id": "4fa2ade6e79c5cb7"
  }
 ],
 "metadata": {
  "kernelspec": {
   "display_name": "Python 3",
   "language": "python",
   "name": "python3"
  },
  "language_info": {
   "codemirror_mode": {
    "name": "ipython",
    "version": 2
   },
   "file_extension": ".py",
   "mimetype": "text/x-python",
   "name": "python",
   "nbconvert_exporter": "python",
   "pygments_lexer": "ipython2",
   "version": "2.7.6"
  }
 },
 "nbformat": 4,
 "nbformat_minor": 5
}
