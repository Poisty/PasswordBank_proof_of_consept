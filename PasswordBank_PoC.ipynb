{
 "cells": [
  {
   "metadata": {
    "collapsed": true
   },
   "cell_type": "markdown",
   "source": "This is a proof of concept for a password bank system that securely stores and retrieves user passwords using encryption. We will cryptography to show how the mathematical principles behind encryption work in practice.",
   "id": "225e9c90683070c4"
  },
  {
   "metadata": {},
   "cell_type": "markdown",
   "source": "# Encrypt ceasar cipher",
   "id": "a238213b5acbfeac"
  },
  {
   "metadata": {
    "ExecuteTime": {
     "end_time": "2025-10-28T12:32:09.310196Z",
     "start_time": "2025-10-28T12:29:42.273864Z"
    }
   },
   "cell_type": "code",
   "source": [
    "# Spør brukeren om tekst og shift-verdi\n",
    "text = input(\"Skriv inn teksten du vil kryptere: \")\n",
    "shift = int(input(\"Oppgi shift-verdi (f.eks. 3): \"))\n",
    "\n",
    "# Enkel Caesar cipher-funksjon\n",
    "def caesar_cipher(text, shift):\n",
    "    result = \"\"\n",
    "    for char in text:\n",
    "        if char.isalpha():\n",
    "            base = 'A' if char.isupper() else 'a'\n",
    "            result += chr((ord(char) - ord(base) + shift) % 26 + ord(base))\n",
    "        else:\n",
    "            result += char\n",
    "    return result\n",
    "\n",
    "encrypted = caesar_cipher(text, shift)\n",
    "print(f\"Kryptert tekst: {encrypted}\")\n"
   ],
   "id": "4fa2ade6e79c5cb7",
   "outputs": [
    {
     "name": "stdout",
     "output_type": "stream",
     "text": [
      "Kryptert tekst: khl\n",
      "\n"
     ]
    }
   ],
   "execution_count": 1
  },
  {
   "metadata": {},
   "cell_type": "markdown",
   "source": "# Decrypt ceasar cipher",
   "id": "fb75f5064f75d3cb"
  },
  {
   "metadata": {
    "ExecuteTime": {
     "end_time": "2025-10-28T12:33:16.275675Z",
     "start_time": "2025-10-28T12:33:16.258654Z"
    }
   },
   "cell_type": "code",
   "source": [
    "def caesar_decrypt(ciphertext, shift):\n",
    "    decrypted = \"\"\n",
    "    for char in ciphertext:\n",
    "        if char.isalpha():\n",
    "            base = 'A' if char.isupper() else 'a'\n",
    "            decrypted += chr((ord(char) - ord(base) - shift) % 26 + ord(base))\n",
    "        else:\n",
    "            decrypted += char\n",
    "    return decrypted\n",
    "\n",
    "\n",
    "# Bruker output fra krypteringsdelen over\n",
    "decrypted_text = caesar_decrypt(encrypted, shift)\n",
    "print(f\"Dekryptert tekst: {decrypted_text}\")\n"
   ],
   "id": "399c46365f77eb98",
   "outputs": [
    {
     "name": "stdout",
     "output_type": "stream",
     "text": [
      "Dekryptert tekst: hei\n",
      "\n"
     ]
    }
   ],
   "execution_count": 2
  }
 ],
 "metadata": {
  "kernelspec": {
   "display_name": "Python 3",
   "language": "python",
   "name": "python3"
  },
  "language_info": {
   "codemirror_mode": {
    "name": "ipython",
    "version": 2
   },
   "file_extension": ".py",
   "mimetype": "text/x-python",
   "name": "python",
   "nbconvert_exporter": "python",
   "pygments_lexer": "ipython2",
   "version": "2.7.6"
  }
 },
 "nbformat": 4,
 "nbformat_minor": 5
}
